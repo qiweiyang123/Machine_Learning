{
 "cells": [
  {
   "cell_type": "markdown",
   "metadata": {},
   "source": [
    "### 阿拉伯数字转换为罗马数字"
   ]
  },
  {
   "cell_type": "markdown",
   "metadata": {},
   "source": [
    "#### 罗马字母记数有以下四条规则：\n",
    "#### 1.相同的数字连写，所表示的数等于这些数相加。如：XXX = 30，CC = 200。\n",
    "#### 2.如果大的数字在前，小的数字在后，所表示的数等于这些数相加。如：VIII = 8，LX = 60。\n",
    "#### 3.如果小的数字在前，大的数字在后，所表示的数等于从大数减去小数。如：IX = 9，XC = 90，CM = 900。\n",
    "#### 4.如果数字上面有一横线，表示这个数字增值1000倍。"
   ]
  },
  {
   "cell_type": "code",
   "execution_count": 7,
   "metadata": {},
   "outputs": [],
   "source": [
    "class Transform:\n",
    "    '''将阿拉伯数字转化为罗马数字'''\n",
    "    def __init__(self,num):\n",
    "        self.num = num\n",
    "    \n",
    "    def transform_roman_num(self):\n",
    "        \n",
    "        num_list = [1000, 900, 500, 400, 100, 90, 50, 40, 10, 9, 5, 4, 1]\n",
    "        roman_list = [\"M\", \"CM\", \"D\", \"CD\", \"C\", \"XC\", \"L\", \"XL\", \"X\", \"IX\", \"V\", \"IV\", \"I\"]\n",
    "    \n",
    "        res = ''\n",
    "        for i in range(len(num_list)):\n",
    "            while self.num >= num_list[i]:\n",
    "                self.num -= num_list[i]\n",
    "                res += roman_list[i]\n",
    "        return res\n",
    "  "
   ]
  },
  {
   "cell_type": "code",
   "execution_count": 14,
   "metadata": {},
   "outputs": [
    {
     "name": "stdout",
     "output_type": "stream",
     "text": [
      "请输入想要转换成罗马数字的阿拉伯数字：33 22 4\n",
      "33 - - - > XXXIII\n",
      "22 - - - > XXII\n",
      "4 - - - > IV\n",
      "是否结束循环（yes/no）:yes\n"
     ]
    }
   ],
   "source": [
    "while True:\n",
    "    alabo_list = input(\"请输入想要转换成罗马数字的阿拉伯数字：\").split(' ')\n",
    "    alabo_list = [int(i) for i in alabo_list]\n",
    "    for alabo in alabo_list:\n",
    "        if alabo > 3999 or alabo < 1:\n",
    "            print(\"请输入1000以内的阿拉伯数字！\")\n",
    "            break\n",
    "        else:\n",
    "            transform = Transform(alabo)\n",
    "            print(f'{alabo} - - - > {transform.transform_roman_num()}')\n",
    "    ques = input('是否结束循环（yes/no）:')\n",
    "    if ques == 'yes':\n",
    "        break\n",
    "        "
   ]
  },
  {
   "cell_type": "code",
   "execution_count": null,
   "metadata": {},
   "outputs": [],
   "source": []
  }
 ],
 "metadata": {
  "kernelspec": {
   "display_name": "Python 3",
   "language": "python",
   "name": "python3"
  },
  "language_info": {
   "codemirror_mode": {
    "name": "ipython",
    "version": 3
   },
   "file_extension": ".py",
   "mimetype": "text/x-python",
   "name": "python",
   "nbconvert_exporter": "python",
   "pygments_lexer": "ipython3",
   "version": "3.7.6"
  }
 },
 "nbformat": 4,
 "nbformat_minor": 4
}
