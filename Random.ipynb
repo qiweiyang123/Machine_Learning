{
 "cells": [
  {
   "cell_type": "markdown",
   "metadata": {},
   "source": [
    "## 1. 生成随机数"
   ]
  },
  {
   "cell_type": "code",
   "execution_count": 18,
   "metadata": {},
   "outputs": [
    {
     "name": "stdout",
     "output_type": "stream",
     "text": [
      "均匀分布：\n",
      " [0.19151945 0.62210877 0.43772774 0.78535858 0.77997581 0.27259261\n",
      " 0.27646426 0.80187218 0.95813935 0.87593263]\n",
      "正态分布：\n",
      " [  5.3924093  -51.06712385  33.75089312  29.79865056  28.8331032\n",
      " -45.5313705   -3.35193415   5.05295912  15.13633529  12.22729852]\n",
      "泊松分布：\n",
      " [3 9 6 2 4 4 9 4 4 4]\n",
      "卡方分布：\n",
      " [ 5.37990065  2.41001986 14.44790666 11.29355215  9.12780799 12.27578268\n",
      " 12.15750485 22.11916755 27.86876237  8.22295222]\n"
     ]
    }
   ],
   "source": [
    "import numpy as np\n",
    "\n",
    "\n",
    "rng = np.random.RandomState(1234)    # 创建一个随机数生成器\n",
    "\n",
    "\n",
    "'''生成10个服从均匀分布的随机数'''\n",
    "rand = rng.rand(10)\n",
    "print(f'均匀分布：\\n {rand}')\n",
    "\n",
    "\n",
    "'''生成10个服从正态分布的随机数'''\n",
    "normal = rng.normal(5, 25, 10)      # 均值为5，方差为25\n",
    "print(f'正态分布：\\n {normal}')    \n",
    "\n",
    "\n",
    "'''生成10个服从泊松分布的随机数'''\n",
    "poisson = rng.poisson(lam = 5, size = 10)     # lam = 5\n",
    "print(f'泊松分布：\\n {poisson}')\n",
    "\n",
    "'''生成10个服从卡方分布的随机数'''\n",
    "chi2 = rng.chisquare(8, 10)       # df = 8\n",
    "print(f'卡方分布：\\n {chi2}')\n"
   ]
  },
  {
   "cell_type": "markdown",
   "metadata": {},
   "source": [
    "## 2. 进行统计计算"
   ]
  },
  {
   "cell_type": "markdown",
   "metadata": {},
   "source": [
    "### 2.1 求均值"
   ]
  },
  {
   "cell_type": "code",
   "execution_count": 24,
   "metadata": {},
   "outputs": [
    {
     "name": "stdout",
     "output_type": "stream",
     "text": [
      "0.600169137864497\n",
      "0.600169137864497\n",
      "\n",
      "3.0241220608364876\n",
      "3.0241220608364876\n",
      "\n",
      "4.9\n",
      "4.9\n",
      "\n",
      "12.53033569766004\n",
      "12.53033569766004\n",
      "\n"
     ]
    }
   ],
   "source": [
    "'''使用两种方法求均值'''\n",
    "\n",
    "print(np.mean(rand))\n",
    "print(rand.mean())\n",
    "print()\n",
    "\n",
    "print(np.mean(normal))\n",
    "print(normal.mean())\n",
    "print()\n",
    "\n",
    "\n",
    "print(np.mean(poisson))\n",
    "print(poisson.mean())\n",
    "print()\n",
    "\n",
    "print(np.mean(chi2))\n",
    "print(chi2.mean())\n",
    "print()\n"
   ]
  },
  {
   "cell_type": "markdown",
   "metadata": {},
   "source": [
    "### 2.2 求极值"
   ]
  },
  {
   "cell_type": "code",
   "execution_count": 26,
   "metadata": {},
   "outputs": [
    {
     "data": {
      "text/plain": [
       "27.868762369814693"
      ]
     },
     "execution_count": 26,
     "metadata": {},
     "output_type": "execute_result"
    }
   ],
   "source": [
    "'''求最大值'''\n",
    "chi2_max = np.max(chi2)\n",
    "chi2_max"
   ]
  },
  {
   "cell_type": "code",
   "execution_count": 27,
   "metadata": {},
   "outputs": [
    {
     "data": {
      "text/plain": [
       "2.4100198621121245"
      ]
     },
     "execution_count": 27,
     "metadata": {},
     "output_type": "execute_result"
    }
   ],
   "source": [
    "'''求最小值'''\n",
    "chi2_min = np.min(chi2)\n",
    "chi2_min"
   ]
  },
  {
   "cell_type": "code",
   "execution_count": 28,
   "metadata": {},
   "outputs": [
    {
     "data": {
      "text/plain": [
       "25.458742507702567"
      ]
     },
     "execution_count": 28,
     "metadata": {},
     "output_type": "execute_result"
    }
   ],
   "source": [
    "'''最大值 - 最小值'''\n",
    "chi2_max - chi2_min"
   ]
  },
  {
   "cell_type": "markdown",
   "metadata": {},
   "source": [
    "### 2.3 求方差/标准差"
   ]
  },
  {
   "cell_type": "code",
   "execution_count": 29,
   "metadata": {},
   "outputs": [
    {
     "data": {
      "text/plain": [
       "789.2395309764579"
      ]
     },
     "execution_count": 29,
     "metadata": {},
     "output_type": "execute_result"
    }
   ],
   "source": [
    "normal_var = np.var(normal)\n",
    "normal_var"
   ]
  },
  {
   "cell_type": "code",
   "execution_count": 30,
   "metadata": {},
   "outputs": [
    {
     "data": {
      "text/plain": [
       "28.093407251105337"
      ]
     },
     "execution_count": 30,
     "metadata": {},
     "output_type": "execute_result"
    }
   ],
   "source": [
    "normal_std = np.std(normal)\n",
    "normal_std"
   ]
  },
  {
   "cell_type": "markdown",
   "metadata": {},
   "source": [
    "### 2.4 求和"
   ]
  },
  {
   "cell_type": "code",
   "execution_count": 31,
   "metadata": {},
   "outputs": [
    {
     "data": {
      "text/plain": [
       "6.00169137864497"
      ]
     },
     "execution_count": 31,
     "metadata": {},
     "output_type": "execute_result"
    }
   ],
   "source": [
    "rand_sum = np.sum(rand)\n",
    "rand_sum"
   ]
  }
 ],
 "metadata": {
  "kernelspec": {
   "display_name": "Python 3",
   "language": "python",
   "name": "python3"
  },
  "language_info": {
   "codemirror_mode": {
    "name": "ipython",
    "version": 3
   },
   "file_extension": ".py",
   "mimetype": "text/x-python",
   "name": "python",
   "nbconvert_exporter": "python",
   "pygments_lexer": "ipython3",
   "version": "3.7.6"
  }
 },
 "nbformat": 4,
 "nbformat_minor": 4
}


