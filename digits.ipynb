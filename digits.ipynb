{
 "cells": [
  {
   "cell_type": "markdown",
   "metadata": {},
   "source": [
    "# 利用朴素贝叶斯分类实现手写数字识别"
   ]
  },
  {
   "cell_type": "markdown",
   "metadata": {},
   "source": [
    "## 导入需要的库"
   ]
  },
  {
   "cell_type": "code",
   "execution_count": 15,
   "metadata": {},
   "outputs": [],
   "source": [
    "import numpy as np\n",
    "import pandas as pd\n",
    "import matplotlib.pyplot as plt\n",
    "%matplotlib inline\n",
    "import seaborn as sns\n",
    "\n",
    "import warnings\n",
    "warnings.filterwarnings(\"ignore\")  "
   ]
  },
  {
   "cell_type": "code",
   "execution_count": 2,
   "metadata": {},
   "outputs": [],
   "source": [
    "from sklearn.datasets import load_digits      # 导入手写数字识别数据集\n",
    "from sklearn.model_selection import train_test_split    # 使用train_test_split方法分割数据集"
   ]
  },
  {
   "cell_type": "markdown",
   "metadata": {},
   "source": [
    "### 导入本例中用到的几个模型类"
   ]
  },
  {
   "cell_type": "code",
   "execution_count": 3,
   "metadata": {},
   "outputs": [],
   "source": [
    "from sklearn.naive_bayes import GaussianNB      # 导入高斯贝叶斯分类器\n",
    "from sklearn.naive_bayes import MultinomialNB     # 导入多项式贝叶斯分类器\n",
    "from sklearn.naive_bayes import BernoulliNB      # 导入伯努利贝叶斯分类器"
   ]
  },
  {
   "cell_type": "markdown",
   "metadata": {},
   "source": [
    "## 1. 初探数据"
   ]
  },
  {
   "cell_type": "code",
   "execution_count": 4,
   "metadata": {},
   "outputs": [
    {
     "name": "stdout",
     "output_type": "stream",
     "text": [
      ".. _digits_dataset:\n",
      "\n",
      "Optical recognition of handwritten digits dataset\n",
      "--------------------------------------------------\n",
      "\n",
      "**Data Set Characteristics:**\n",
      "\n",
      "    :Number of Instances: 5620\n",
      "    :Number of Attributes: 64\n",
      "    :Attribute Information: 8x8 image of integer pixels in the range 0..16.\n",
      "    :Missing Attribute Values: None\n",
      "    :Creator: E. Alpaydin (alpaydin '@' boun.edu.tr)\n",
      "    :Date: July; 1998\n",
      "\n",
      "This is a copy of the test set of the UCI ML hand-written digits datasets\n",
      "https://archive.ics.uci.edu/ml/datasets/Optical+Recognition+of+Handwritten+Digits\n",
      "\n",
      "The data set contains images of hand-written digits: 10 classes where\n",
      "each class refers to a digit.\n",
      "\n",
      "Preprocessing programs made available by NIST were used to extract\n",
      "normalized bitmaps of handwritten digits from a preprinted form. From a\n",
      "total of 43 people, 30 contributed to the training set and different 13\n",
      "to the test set. 32x32 bitmaps are divided into nonoverlapping blocks of\n",
      "4x4 and the number of on pixels are counted in each block. This generates\n",
      "an input matrix of 8x8 where each element is an integer in the range\n",
      "0..16. This reduces dimensionality and gives invariance to small\n",
      "distortions.\n",
      "\n",
      "For info on NIST preprocessing routines, see M. D. Garris, J. L. Blue, G.\n",
      "T. Candela, D. L. Dimmick, J. Geist, P. J. Grother, S. A. Janet, and C.\n",
      "L. Wilson, NIST Form-Based Handprint Recognition System, NISTIR 5469,\n",
      "1994.\n",
      "\n",
      ".. topic:: References\n",
      "\n",
      "  - C. Kaynak (1995) Methods of Combining Multiple Classifiers and Their\n",
      "    Applications to Handwritten Digit Recognition, MSc Thesis, Institute of\n",
      "    Graduate Studies in Science and Engineering, Bogazici University.\n",
      "  - E. Alpaydin, C. Kaynak (1998) Cascading Classifiers, Kybernetika.\n",
      "  - Ken Tang and Ponnuthurai N. Suganthan and Xi Yao and A. Kai Qin.\n",
      "    Linear dimensionalityreduction using relevance weighted LDA. School of\n",
      "    Electrical and Electronic Engineering Nanyang Technological University.\n",
      "    2005.\n",
      "  - Claudio Gentile. A New Approximate Maximal Margin Classification\n",
      "    Algorithm. NIPS. 2000.\n"
     ]
    }
   ],
   "source": [
    "digits = load_digits()    \n",
    "print(digits.DESCR)     #输出数据集的简介、作者以及参考资料"
   ]
  },
  {
   "cell_type": "markdown",
   "metadata": {},
   "source": [
    "#### 共有1797个样本，每个样本包括8*8像素的图像和一个[0, 9]整数的标签"
   ]
  },
  {
   "cell_type": "markdown",
   "metadata": {},
   "source": [
    "digits中总共有四种数据：\n",
    "\n",
    "data:存储各个图片的各个像素，是展开后的一维数组\n",
    "\n",
    "target:存储每个图片的对应标签\n",
    "\n",
    "target_names:记录各个标签对应的名字\n",
    "\n",
    "images:和data数据内容一样，但是类型不同，属于二维数组"
   ]
  },
  {
   "cell_type": "markdown",
   "metadata": {},
   "source": [
    "#### 属性查看"
   ]
  },
  {
   "cell_type": "code",
   "execution_count": 5,
   "metadata": {},
   "outputs": [
    {
     "name": "stdout",
     "output_type": "stream",
     "text": [
      "(1797, 64)\n",
      "(1797, 8, 8)\n",
      "[0 1 2 3 4 5 6 7 8 9]\n"
     ]
    }
   ],
   "source": [
    "print(digits.data.shape)   # 查看数据结构\n",
    "print(digits.images.shape)\n",
    "print(digits.target_names)    #查看target有哪几个数  "
   ]
  },
  {
   "cell_type": "code",
   "execution_count": 7,
   "metadata": {},
   "outputs": [
    {
     "data": {
      "text/plain": [
       "3    183\n",
       "5    182\n",
       "1    182\n",
       "6    181\n",
       "4    181\n",
       "9    180\n",
       "7    179\n",
       "0    178\n",
       "2    177\n",
       "8    174\n",
       "dtype: int64"
      ]
     },
     "execution_count": 7,
     "metadata": {},
     "output_type": "execute_result"
    }
   ],
   "source": [
    "pd.Series(digits.target).value_counts()"
   ]
  },
  {
   "cell_type": "code",
   "execution_count": 39,
   "metadata": {
    "scrolled": true
   },
   "outputs": [
    {
     "data": {
      "image/png": "[encoded data removed]",
      "text/plain": [
       "<Figure size 936x360 with 1 Axes>"
      ]
     },
     "metadata": {},
     "output_type": "display_data"
    }
   ],
   "source": [
    "# 查看每个数字图像的个数\n",
    "sns.set(font='SimHei')      # 设置中文显示\n",
    "\n",
    "fig = plt.figure(figsize=(13,5))    # 生成新的图片\n",
    "ax = fig.add_subplot(111)      # 创建一个子图\n",
    "\n",
    "counts = pd.Series(digits.target).value_counts()\n",
    "counts_x = counts.index          # 生成x轴数据\n",
    "counts_y = counts.values       # 生成y轴数据\n",
    "\n",
    "sns.set_style(\"darkgrid\")\n",
    "ax = sns.barplot(x=counts_x, y=counts_y, palette=\"pastel\")\n",
    "plt.xlabel('number',fontsize='17')      # 设置x轴标签\n",
    "plt.ylabel('count',fontsize='17')      # 设置y轴标签\n",
    "plt.title('数字图像个数柱形图',fontsize='20')     # 设置柱形图标题\n",
    "plt.yticks(range(0,240,30))\n",
    "plt.tick_params(labelsize=15)    #刻度字体大小13\n",
    "\n",
    "for p in ax.patches:\n",
    "    height = p.get_height()   # 获取每个柱形图的高度\n",
    "    ax.text(x = p.get_x()+0.4,y = height+4,s = '{:.0f}'.format(height), ha = 'center')    #添加数据标签\n",
    "    \n",
    "plt.show()\n"
   ]
  },
  {
   "cell_type": "markdown",
   "metadata": {},
   "source": [
    "#### 每个数字图像的个数大体上相同，均在170-180之间"
   ]
  },
  {
   "cell_type": "markdown",
   "metadata": {},
   "source": [
    "####  查看第一张图片"
   ]
  },
  {
   "cell_type": "code",
   "execution_count": 14,
   "metadata": {
    "scrolled": true
   },
   "outputs": [
    {
     "data": {
      "text/plain": [
       "array([[ 0.,  0.,  5., 13.,  9.,  1.,  0.,  0.],\n",
       "       [ 0.,  0., 13., 15., 10., 15.,  5.,  0.],\n",
       "       [ 0.,  3., 15.,  2.,  0., 11.,  8.,  0.],\n",
       "       [ 0.,  4., 12.,  0.,  0.,  8.,  8.,  0.],\n",
       "       [ 0.,  5.,  8.,  0.,  0.,  9.,  8.,  0.],\n",
       "       [ 0.,  4., 11.,  0.,  1., 12.,  7.,  0.],\n",
       "       [ 0.,  2., 14.,  5., 10., 12.,  0.,  0.],\n",
       "       [ 0.,  0.,  6., 13., 10.,  0.,  0.,  0.]])"
      ]
     },
     "execution_count": 14,
     "metadata": {},
     "output_type": "execute_result"
    }
   ],
   "source": [
    "digits.images[0]"
   ]
  },
  {
   "cell_type": "code",
   "execution_count": 17,
   "metadata": {},
   "outputs": [
    {
     "data": {
      "text/plain": [
       "<matplotlib.image.AxesImage at 0x1cc4f9c7308>"
      ]
     },
     "execution_count": 17,
     "metadata": {},
     "output_type": "execute_result"
    },
    {
     "data": {
      "image/png": "[encoded data removed]",
      "text/plain": [
       "<Figure size 432x288 with 1 Axes>"
      ]
     },
     "metadata": {
      "needs_background": "light"
     },
     "output_type": "display_data"
    }
   ],
   "source": [
    "plt.imshow(digits.images[0],cmap = plt.cm.gray_r,interpolation = 'nearest')   "
   ]
  },
  {
   "cell_type": "markdown",
   "metadata": {},
   "source": [
    "## 2. 比较不同模型的实现效果"
   ]
  },
  {
   "cell_type": "markdown",
   "metadata": {},
   "source": [
    "高斯朴素贝叶斯分类器(默认条件概率分布概率符合高斯分布)\n",
    "\n",
    "多项式朴素贝叶斯分类器(条件概率符合多项式分布)\n",
    "\n",
    "伯努利朴素贝叶斯分类器(条件概率符合二项分布)"
   ]
  },
  {
   "cell_type": "code",
   "execution_count": 64,
   "metadata": {},
   "outputs": [],
   "source": [
    "'''将数据集划分为70%的训练集和30%的测试集'''\n",
    "X_train, X_test, y_train, y_test = train_test_split(digits.data,digits.target,random_state=10,test_size=0.3)"
   ]
  },
  {
   "cell_type": "code",
   "execution_count": 77,
   "metadata": {},
   "outputs": [
    {
     "name": "stdout",
     "output_type": "stream",
     "text": [
      "GaussianNBTraining Score: 0.848\n",
      "GaussianNBTesting Score: 0.813\n",
      "\n",
      "MultinomialNBTraining Score: 0.909\n",
      "MultinomialNBTesting Score: 0.885\n",
      "\n",
      "BernoulliNBTraining Score: 0.865\n",
      "BernoulliNBTesting Score: 0.831\n",
      "\n"
     ]
    }
   ],
   "source": [
    "'''高斯朴素贝叶斯分类器'''\n",
    "gnb = GaussianNB()\n",
    "gnb.fit(X_train, y_train)\n",
    "\n",
    "'''多项式朴素贝叶斯分类器'''\n",
    "mnb = MultinomialNB()\n",
    "mnb.fit(X_train, y_train)\n",
    "\n",
    "'''努利朴素贝叶斯分类器'''\n",
    "bnb = BernoulliNB()\n",
    "bnb.fit(X_train, y_train)\n",
    "\n",
    "'''输出每个模型的训练集和测试集的分数'''\n",
    "model = ['GaussianNB','MultinomialNB','BernoulliNB']\n",
    "clf = [gnb,mnb,bnb]\n",
    "for clf,model in zip(clf,model):\n",
    "#     print(f'{model} Training Score: {clf.score(X_train, y_train)}')    # 输出训练集的得分\n",
    "#     print(f'{model} Testing Score: {clf.score(X_test, y_test)}\\n')    #  输出测试集的得分\n",
    "\n",
    "    print(model + 'Training Score: %.3f' % clf.score(X_train, y_train))\n",
    "    print(model + 'Testing Score: %.3f' % clf.score(X_test, y_test)+ '\\n')"
   ]
  },
  {
   "cell_type": "markdown",
   "metadata": {},
   "source": [
    "#### 使用交叉验证方法评估模型的预测性能"
   ]
  },
  {
   "cell_type": "code",
   "execution_count": 83,
   "metadata": {},
   "outputs": [
    {
     "name": "stdout",
     "output_type": "stream",
     "text": [
      "GaussianNB cross_val_score: 0.811\n",
      "MultinomialNB cross_val_score: 0.880\n",
      "BernoulliNB cross_val_score: 0.833\n"
     ]
    }
   ],
   "source": [
    "from sklearn.model_selection import cross_val_score\n",
    "\n",
    "\n",
    "model = ['GaussianNB','MultinomialNB','BernoulliNB']\n",
    "clf = [gnb,mnb,bnb]\n",
    "for clf,model in zip(clf,model):\n",
    "    scorete = cross_val_score(clf,digits.data,digits.target,cv=10).mean()\n",
    "    print(model + ' cross_val_score: %.3f' % scorete)\n",
    "    "
   ]
  },
  {
   "cell_type": "markdown",
   "metadata": {},
   "source": [
    "#### 从以上三个模型训练的得分可以看出，对于该数据集，三种朴素贝叶斯分类器中多项式朴素贝叶斯分类器的预测性能最好，其次是伯努利朴素贝叶斯分类器，最后是高斯朴素贝叶斯分类器。"
   ]
  }
 ],
 "metadata": {
  "kernelspec": {
   "display_name": "Python 3",
   "language": "python",
   "name": "python3"
  },
  "language_info": {
   "codemirror_mode": {
    "name": "ipython",
    "version": 3
   },
   "file_extension": ".py",
   "mimetype": "text/x-python",
   "name": "python",
   "nbconvert_exporter": "python",
   "pygments_lexer": "ipython3",
   "version": "3.7.6"
  }
 },
 "nbformat": 4,
 "nbformat_minor": 4
}
