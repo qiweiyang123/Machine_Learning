{
 "cells": [
  {
   "cell_type": "code",
   "execution_count": 1,
   "metadata": {},
   "outputs": [],
   "source": [
    "import numpy as np\n",
    "import pandas as pd\n",
    "import matplotlib.pyplot as plt\n",
    "import warnings\n",
    "warnings.filterwarnings(\"ignore\")   "
   ]
  },
  {
   "cell_type": "markdown",
   "metadata": {},
   "source": [
    "## 1. 导入数据集，初探数据"
   ]
  },
  {
   "cell_type": "code",
   "execution_count": 2,
   "metadata": {},
   "outputs": [],
   "source": [
    "data = pd.read_csv(\"bra.csv\")     # 导入数据\n",
    "colors = pd.read_csv('colors.csv',index_col=0)"
   ]
  },
  {
   "cell_type": "code",
   "execution_count": 3,
   "metadata": {},
   "outputs": [
    {
     "data": {
      "text/html": [
       "<div>\n",
       "<style scoped>\n",
       "    .dataframe tbody tr th:only-of-type {\n",
       "        vertical-align: middle;\n",
       "    }\n",
       "\n",
       "    .dataframe tbody tr th {\n",
       "        vertical-align: top;\n",
       "    }\n",
       "\n",
       "    .dataframe thead th {\n",
       "        text-align: right;\n",
       "    }\n",
       "</style>\n",
       "<table border=\"1\" class=\"dataframe\">\n",
       "  <thead>\n",
       "    <tr style=\"text-align: right;\">\n",
       "      <th></th>\n",
       "      <th>creationTime</th>\n",
       "      <th>productColor</th>\n",
       "      <th>productSize</th>\n",
       "    </tr>\n",
       "  </thead>\n",
       "  <tbody>\n",
       "    <tr>\n",
       "      <th>0</th>\n",
       "      <td>2016-06-08 17:17:00</td>\n",
       "      <td>22咖啡色</td>\n",
       "      <td>75C</td>\n",
       "    </tr>\n",
       "    <tr>\n",
       "      <th>1</th>\n",
       "      <td>2017-04-07 19:34:25</td>\n",
       "      <td>22咖啡色</td>\n",
       "      <td>80B</td>\n",
       "    </tr>\n",
       "    <tr>\n",
       "      <th>2</th>\n",
       "      <td>2016-06-18 19:44:56</td>\n",
       "      <td>02粉色</td>\n",
       "      <td>80C</td>\n",
       "    </tr>\n",
       "    <tr>\n",
       "      <th>3</th>\n",
       "      <td>2017-08-03 20:39:18</td>\n",
       "      <td>22咖啡色</td>\n",
       "      <td>80B</td>\n",
       "    </tr>\n",
       "    <tr>\n",
       "      <th>4</th>\n",
       "      <td>2016-07-06 14:02:08</td>\n",
       "      <td>22咖啡色</td>\n",
       "      <td>75B</td>\n",
       "    </tr>\n",
       "  </tbody>\n",
       "</table>\n",
       "</div>"
      ],
      "text/plain": [
       "          creationTime productColor productSize\n",
       "0  2016-06-08 17:17:00        22咖啡色         75C\n",
       "1  2017-04-07 19:34:25        22咖啡色         80B\n",
       "2  2016-06-18 19:44:56         02粉色         80C\n",
       "3  2017-08-03 20:39:18        22咖啡色         80B\n",
       "4  2016-07-06 14:02:08        22咖啡色         75B"
      ]
     },
     "execution_count": 3,
     "metadata": {},
     "output_type": "execute_result"
    }
   ],
   "source": [
    "data.head()     # 查看前五列"
   ]
  },
  {
   "cell_type": "code",
   "execution_count": 4,
   "metadata": {},
   "outputs": [
    {
     "data": {
      "text/html": [
       "<div>\n",
       "<style scoped>\n",
       "    .dataframe tbody tr th:only-of-type {\n",
       "        vertical-align: middle;\n",
       "    }\n",
       "\n",
       "    .dataframe tbody tr th {\n",
       "        vertical-align: top;\n",
       "    }\n",
       "\n",
       "    .dataframe thead th {\n",
       "        text-align: right;\n",
       "    }\n",
       "</style>\n",
       "<table border=\"1\" class=\"dataframe\">\n",
       "  <thead>\n",
       "    <tr style=\"text-align: right;\">\n",
       "      <th></th>\n",
       "      <th>0</th>\n",
       "      <th>1</th>\n",
       "    </tr>\n",
       "  </thead>\n",
       "  <tbody>\n",
       "    <tr>\n",
       "      <th>0</th>\n",
       "      <td>22咖啡色</td>\n",
       "      <td>棕色</td>\n",
       "    </tr>\n",
       "    <tr>\n",
       "      <th>1</th>\n",
       "      <td>02粉色</td>\n",
       "      <td>粉色</td>\n",
       "    </tr>\n",
       "    <tr>\n",
       "      <th>2</th>\n",
       "      <td>071蓝色</td>\n",
       "      <td>蓝色</td>\n",
       "    </tr>\n",
       "    <tr>\n",
       "      <th>3</th>\n",
       "      <td>071黑色</td>\n",
       "      <td>黑色</td>\n",
       "    </tr>\n",
       "    <tr>\n",
       "      <th>4</th>\n",
       "      <td>071肤色</td>\n",
       "      <td>肤色</td>\n",
       "    </tr>\n",
       "  </tbody>\n",
       "</table>\n",
       "</div>"
      ],
      "text/plain": [
       "       0   1\n",
       "0  22咖啡色  棕色\n",
       "1   02粉色  粉色\n",
       "2  071蓝色  蓝色\n",
       "3  071黑色  黑色\n",
       "4  071肤色  肤色"
      ]
     },
     "execution_count": 4,
     "metadata": {},
     "output_type": "execute_result"
    }
   ],
   "source": [
    "colors.head()"
   ]
  },
  {
   "cell_type": "code",
   "execution_count": 5,
   "metadata": {},
   "outputs": [
    {
     "name": "stdout",
     "output_type": "stream",
     "text": [
      "<class 'pandas.core.frame.DataFrame'>\n",
      "RangeIndex: 15497 entries, 0 to 15496\n",
      "Data columns (total 3 columns):\n",
      " #   Column        Non-Null Count  Dtype \n",
      "---  ------        --------------  ----- \n",
      " 0   creationTime  15497 non-null  object\n",
      " 1   productColor  15496 non-null  object\n",
      " 2   productSize   15496 non-null  object\n",
      "dtypes: object(3)\n",
      "memory usage: 363.3+ KB\n"
     ]
    },
    {
     "data": {
      "text/plain": [
       "'\\nproductColor和productSize属性只有15496条记录，各有一个缺失值\\n'"
      ]
     },
     "execution_count": 5,
     "metadata": {},
     "output_type": "execute_result"
    }
   ],
   "source": [
    "data.info()\n",
    "\n",
    "'''\n",
    "productColor和productSize属性只有15496条记录，各有一个缺失值\n",
    "'''"
   ]
  },
  {
   "cell_type": "code",
   "execution_count": 6,
   "metadata": {
    "scrolled": false
   },
   "outputs": [
    {
     "data": {
      "text/html": [
       "<div>\n",
       "<style scoped>\n",
       "    .dataframe tbody tr th:only-of-type {\n",
       "        vertical-align: middle;\n",
       "    }\n",
       "\n",
       "    .dataframe tbody tr th {\n",
       "        vertical-align: top;\n",
       "    }\n",
       "\n",
       "    .dataframe thead th {\n",
       "        text-align: right;\n",
       "    }\n",
       "</style>\n",
       "<table border=\"1\" class=\"dataframe\">\n",
       "  <thead>\n",
       "    <tr style=\"text-align: right;\">\n",
       "      <th></th>\n",
       "      <th>creationTime</th>\n",
       "      <th>productColor</th>\n",
       "      <th>productSize</th>\n",
       "    </tr>\n",
       "  </thead>\n",
       "  <tbody>\n",
       "    <tr>\n",
       "      <th>count</th>\n",
       "      <td>15497</td>\n",
       "      <td>15496</td>\n",
       "      <td>15496</td>\n",
       "    </tr>\n",
       "    <tr>\n",
       "      <th>unique</th>\n",
       "      <td>14988</td>\n",
       "      <td>117</td>\n",
       "      <td>120</td>\n",
       "    </tr>\n",
       "    <tr>\n",
       "      <th>top</th>\n",
       "      <td>2017-06-24 15:51:06</td>\n",
       "      <td>肤色</td>\n",
       "      <td>80B/36B</td>\n",
       "    </tr>\n",
       "    <tr>\n",
       "      <th>freq</th>\n",
       "      <td>2</td>\n",
       "      <td>1582</td>\n",
       "      <td>2580</td>\n",
       "    </tr>\n",
       "  </tbody>\n",
       "</table>\n",
       "</div>"
      ],
      "text/plain": [
       "               creationTime productColor productSize\n",
       "count                 15497        15496       15496\n",
       "unique                14988          117         120\n",
       "top     2017-06-24 15:51:06           肤色     80B/36B\n",
       "freq                      2         1582        2580"
      ]
     },
     "execution_count": 6,
     "metadata": {},
     "output_type": "execute_result"
    }
   ],
   "source": [
    "data.describe()    # 进行描述性分析"
   ]
  },
  {
   "cell_type": "code",
   "execution_count": 7,
   "metadata": {},
   "outputs": [
    {
     "name": "stdout",
     "output_type": "stream",
     "text": [
      "<class 'pandas.core.frame.DataFrame'>\n",
      "Int64Index: 118 entries, 0 to 117\n",
      "Data columns (total 2 columns):\n",
      " #   Column  Non-Null Count  Dtype \n",
      "---  ------  --------------  ----- \n",
      " 0   0       117 non-null    object\n",
      " 1   1       117 non-null    object\n",
      "dtypes: object(2)\n",
      "memory usage: 2.8+ KB\n"
     ]
    }
   ],
   "source": [
    "colors.info()"
   ]
  },
  {
   "cell_type": "markdown",
   "metadata": {},
   "source": [
    "## 2. 数据预处理"
   ]
  },
  {
   "cell_type": "markdown",
   "metadata": {},
   "source": [
    "### 2.1 缺失值处理"
   ]
  },
  {
   "cell_type": "code",
   "execution_count": 8,
   "metadata": {},
   "outputs": [
    {
     "data": {
      "text/plain": [
       "1"
      ]
     },
     "execution_count": 8,
     "metadata": {},
     "output_type": "execute_result"
    }
   ],
   "source": [
    "data['productColor'].isnull().sum()"
   ]
  },
  {
   "cell_type": "code",
   "execution_count": 9,
   "metadata": {},
   "outputs": [],
   "source": [
    "'''\n",
    "只有一条记录有缺失值，所以，可直接删除缺失值\n",
    "'''\n",
    "data = data.dropna()      # 直接删除缺失值"
   ]
  },
  {
   "cell_type": "code",
   "execution_count": 10,
   "metadata": {},
   "outputs": [
    {
     "name": "stdout",
     "output_type": "stream",
     "text": [
      "<class 'pandas.core.frame.DataFrame'>\n",
      "Int64Index: 15496 entries, 0 to 15496\n",
      "Data columns (total 3 columns):\n",
      " #   Column        Non-Null Count  Dtype \n",
      "---  ------        --------------  ----- \n",
      " 0   creationTime  15496 non-null  object\n",
      " 1   productColor  15496 non-null  object\n",
      " 2   productSize   15496 non-null  object\n",
      "dtypes: object(3)\n",
      "memory usage: 484.2+ KB\n"
     ]
    }
   ],
   "source": [
    "data.info()"
   ]
  },
  {
   "cell_type": "code",
   "execution_count": 11,
   "metadata": {},
   "outputs": [
    {
     "data": {
      "text/html": [
       "<div>\n",
       "<style scoped>\n",
       "    .dataframe tbody tr th:only-of-type {\n",
       "        vertical-align: middle;\n",
       "    }\n",
       "\n",
       "    .dataframe tbody tr th {\n",
       "        vertical-align: top;\n",
       "    }\n",
       "\n",
       "    .dataframe thead th {\n",
       "        text-align: right;\n",
       "    }\n",
       "</style>\n",
       "<table border=\"1\" class=\"dataframe\">\n",
       "  <thead>\n",
       "    <tr style=\"text-align: right;\">\n",
       "      <th></th>\n",
       "      <th>creationTime</th>\n",
       "      <th>productColor</th>\n",
       "      <th>productSize</th>\n",
       "    </tr>\n",
       "  </thead>\n",
       "  <tbody>\n",
       "    <tr>\n",
       "      <th>count</th>\n",
       "      <td>15496</td>\n",
       "      <td>15496</td>\n",
       "      <td>15496</td>\n",
       "    </tr>\n",
       "    <tr>\n",
       "      <th>unique</th>\n",
       "      <td>14987</td>\n",
       "      <td>117</td>\n",
       "      <td>120</td>\n",
       "    </tr>\n",
       "    <tr>\n",
       "      <th>top</th>\n",
       "      <td>2017-11-13 09:25:05</td>\n",
       "      <td>肤色</td>\n",
       "      <td>80B/36B</td>\n",
       "    </tr>\n",
       "    <tr>\n",
       "      <th>freq</th>\n",
       "      <td>2</td>\n",
       "      <td>1582</td>\n",
       "      <td>2580</td>\n",
       "    </tr>\n",
       "  </tbody>\n",
       "</table>\n",
       "</div>"
      ],
      "text/plain": [
       "               creationTime productColor productSize\n",
       "count                 15496        15496       15496\n",
       "unique                14987          117         120\n",
       "top     2017-11-13 09:25:05           肤色     80B/36B\n",
       "freq                      2         1582        2580"
      ]
     },
     "execution_count": 11,
     "metadata": {},
     "output_type": "execute_result"
    }
   ],
   "source": [
    "'''进行描述性统计分析'''\n",
    "data.describe()"
   ]
  },
  {
   "cell_type": "markdown",
   "metadata": {},
   "source": [
    "### 2.2 将creationTime属性转换为日期型"
   ]
  },
  {
   "cell_type": "code",
   "execution_count": 12,
   "metadata": {},
   "outputs": [],
   "source": [
    "data.loc[:,'creationTime'] = pd.to_datetime(data.loc[:,'creationTime'])"
   ]
  },
  {
   "cell_type": "code",
   "execution_count": 13,
   "metadata": {},
   "outputs": [
    {
     "name": "stdout",
     "output_type": "stream",
     "text": [
      "<class 'pandas.core.frame.DataFrame'>\n",
      "Int64Index: 15496 entries, 0 to 15496\n",
      "Data columns (total 3 columns):\n",
      " #   Column        Non-Null Count  Dtype         \n",
      "---  ------        --------------  -----         \n",
      " 0   creationTime  15496 non-null  datetime64[ns]\n",
      " 1   productColor  15496 non-null  object        \n",
      " 2   productSize   15496 non-null  object        \n",
      "dtypes: datetime64[ns](1), object(2)\n",
      "memory usage: 484.2+ KB\n"
     ]
    }
   ],
   "source": [
    "data.info()"
   ]
  },
  {
   "cell_type": "code",
   "execution_count": 14,
   "metadata": {},
   "outputs": [],
   "source": [
    "'''从creationTime属性获取年月日'''\n",
    "\n",
    "data['year'] = data['creationTime'].dt.year\n",
    "data['month'] = data['creationTime'].dt.month\n",
    "data['day'] = data['creationTime'].dt.day"
   ]
  },
  {
   "cell_type": "code",
   "execution_count": 15,
   "metadata": {},
   "outputs": [
    {
     "data": {
      "text/html": [
       "<div>\n",
       "<style scoped>\n",
       "    .dataframe tbody tr th:only-of-type {\n",
       "        vertical-align: middle;\n",
       "    }\n",
       "\n",
       "    .dataframe tbody tr th {\n",
       "        vertical-align: top;\n",
       "    }\n",
       "\n",
       "    .dataframe thead th {\n",
       "        text-align: right;\n",
       "    }\n",
       "</style>\n",
       "<table border=\"1\" class=\"dataframe\">\n",
       "  <thead>\n",
       "    <tr style=\"text-align: right;\">\n",
       "      <th></th>\n",
       "      <th>creationTime</th>\n",
       "      <th>productColor</th>\n",
       "      <th>productSize</th>\n",
       "      <th>year</th>\n",
       "      <th>month</th>\n",
       "      <th>day</th>\n",
       "    </tr>\n",
       "  </thead>\n",
       "  <tbody>\n",
       "    <tr>\n",
       "      <th>0</th>\n",
       "      <td>2016-06-08 17:17:00</td>\n",
       "      <td>22咖啡色</td>\n",
       "      <td>75C</td>\n",
       "      <td>2016</td>\n",
       "      <td>6</td>\n",
       "      <td>8</td>\n",
       "    </tr>\n",
       "    <tr>\n",
       "      <th>1</th>\n",
       "      <td>2017-04-07 19:34:25</td>\n",
       "      <td>22咖啡色</td>\n",
       "      <td>80B</td>\n",
       "      <td>2017</td>\n",
       "      <td>4</td>\n",
       "      <td>7</td>\n",
       "    </tr>\n",
       "    <tr>\n",
       "      <th>2</th>\n",
       "      <td>2016-06-18 19:44:56</td>\n",
       "      <td>02粉色</td>\n",
       "      <td>80C</td>\n",
       "      <td>2016</td>\n",
       "      <td>6</td>\n",
       "      <td>18</td>\n",
       "    </tr>\n",
       "    <tr>\n",
       "      <th>3</th>\n",
       "      <td>2017-08-03 20:39:18</td>\n",
       "      <td>22咖啡色</td>\n",
       "      <td>80B</td>\n",
       "      <td>2017</td>\n",
       "      <td>8</td>\n",
       "      <td>3</td>\n",
       "    </tr>\n",
       "    <tr>\n",
       "      <th>4</th>\n",
       "      <td>2016-07-06 14:02:08</td>\n",
       "      <td>22咖啡色</td>\n",
       "      <td>75B</td>\n",
       "      <td>2016</td>\n",
       "      <td>7</td>\n",
       "      <td>6</td>\n",
       "    </tr>\n",
       "    <tr>\n",
       "      <th>5</th>\n",
       "      <td>2017-03-18 11:49:55</td>\n",
       "      <td>22咖啡色</td>\n",
       "      <td>80B</td>\n",
       "      <td>2017</td>\n",
       "      <td>3</td>\n",
       "      <td>18</td>\n",
       "    </tr>\n",
       "    <tr>\n",
       "      <th>6</th>\n",
       "      <td>2017-01-13 13:43:06</td>\n",
       "      <td>22咖啡色</td>\n",
       "      <td>80B</td>\n",
       "      <td>2017</td>\n",
       "      <td>1</td>\n",
       "      <td>13</td>\n",
       "    </tr>\n",
       "    <tr>\n",
       "      <th>7</th>\n",
       "      <td>2016-07-10 22:22:56</td>\n",
       "      <td>22咖啡色</td>\n",
       "      <td>80B</td>\n",
       "      <td>2016</td>\n",
       "      <td>7</td>\n",
       "      <td>10</td>\n",
       "    </tr>\n",
       "    <tr>\n",
       "      <th>8</th>\n",
       "      <td>2016-07-15 14:34:23</td>\n",
       "      <td>22咖啡色</td>\n",
       "      <td>80B</td>\n",
       "      <td>2016</td>\n",
       "      <td>7</td>\n",
       "      <td>15</td>\n",
       "    </tr>\n",
       "    <tr>\n",
       "      <th>9</th>\n",
       "      <td>2017-03-27 12:54:43</td>\n",
       "      <td>22咖啡色</td>\n",
       "      <td>70C</td>\n",
       "      <td>2017</td>\n",
       "      <td>3</td>\n",
       "      <td>27</td>\n",
       "    </tr>\n",
       "  </tbody>\n",
       "</table>\n",
       "</div>"
      ],
      "text/plain": [
       "         creationTime productColor productSize  year  month  day\n",
       "0 2016-06-08 17:17:00        22咖啡色         75C  2016      6    8\n",
       "1 2017-04-07 19:34:25        22咖啡色         80B  2017      4    7\n",
       "2 2016-06-18 19:44:56         02粉色         80C  2016      6   18\n",
       "3 2017-08-03 20:39:18        22咖啡色         80B  2017      8    3\n",
       "4 2016-07-06 14:02:08        22咖啡色         75B  2016      7    6\n",
       "5 2017-03-18 11:49:55        22咖啡色         80B  2017      3   18\n",
       "6 2017-01-13 13:43:06        22咖啡色         80B  2017      1   13\n",
       "7 2016-07-10 22:22:56        22咖啡色         80B  2016      7   10\n",
       "8 2016-07-15 14:34:23        22咖啡色         80B  2016      7   15\n",
       "9 2017-03-27 12:54:43        22咖啡色         70C  2017      3   27"
      ]
     },
     "execution_count": 15,
     "metadata": {},
     "output_type": "execute_result"
    }
   ],
   "source": [
    "data[:10]     # 查看数据"
   ]
  },
  {
   "cell_type": "code",
   "execution_count": 16,
   "metadata": {},
   "outputs": [
    {
     "data": {
      "text/html": [
       "<div>\n",
       "<style scoped>\n",
       "    .dataframe tbody tr th:only-of-type {\n",
       "        vertical-align: middle;\n",
       "    }\n",
       "\n",
       "    .dataframe tbody tr th {\n",
       "        vertical-align: top;\n",
       "    }\n",
       "\n",
       "    .dataframe thead th {\n",
       "        text-align: right;\n",
       "    }\n",
       "</style>\n",
       "<table border=\"1\" class=\"dataframe\">\n",
       "  <thead>\n",
       "    <tr style=\"text-align: right;\">\n",
       "      <th></th>\n",
       "      <th>creationTime</th>\n",
       "      <th>year</th>\n",
       "      <th>month</th>\n",
       "      <th>day</th>\n",
       "      <th>productColor</th>\n",
       "      <th>productSize</th>\n",
       "    </tr>\n",
       "  </thead>\n",
       "  <tbody>\n",
       "    <tr>\n",
       "      <th>0</th>\n",
       "      <td>2016-06-08 17:17:00</td>\n",
       "      <td>2016</td>\n",
       "      <td>6</td>\n",
       "      <td>8</td>\n",
       "      <td>22咖啡色</td>\n",
       "      <td>75C</td>\n",
       "    </tr>\n",
       "    <tr>\n",
       "      <th>1</th>\n",
       "      <td>2017-04-07 19:34:25</td>\n",
       "      <td>2017</td>\n",
       "      <td>4</td>\n",
       "      <td>7</td>\n",
       "      <td>22咖啡色</td>\n",
       "      <td>80B</td>\n",
       "    </tr>\n",
       "    <tr>\n",
       "      <th>2</th>\n",
       "      <td>2016-06-18 19:44:56</td>\n",
       "      <td>2016</td>\n",
       "      <td>6</td>\n",
       "      <td>18</td>\n",
       "      <td>02粉色</td>\n",
       "      <td>80C</td>\n",
       "    </tr>\n",
       "    <tr>\n",
       "      <th>3</th>\n",
       "      <td>2017-08-03 20:39:18</td>\n",
       "      <td>2017</td>\n",
       "      <td>8</td>\n",
       "      <td>3</td>\n",
       "      <td>22咖啡色</td>\n",
       "      <td>80B</td>\n",
       "    </tr>\n",
       "    <tr>\n",
       "      <th>4</th>\n",
       "      <td>2016-07-06 14:02:08</td>\n",
       "      <td>2016</td>\n",
       "      <td>7</td>\n",
       "      <td>6</td>\n",
       "      <td>22咖啡色</td>\n",
       "      <td>75B</td>\n",
       "    </tr>\n",
       "  </tbody>\n",
       "</table>\n",
       "</div>"
      ],
      "text/plain": [
       "         creationTime  year  month  day productColor productSize\n",
       "0 2016-06-08 17:17:00  2016      6    8        22咖啡色         75C\n",
       "1 2017-04-07 19:34:25  2017      4    7        22咖啡色         80B\n",
       "2 2016-06-18 19:44:56  2016      6   18         02粉色         80C\n",
       "3 2017-08-03 20:39:18  2017      8    3        22咖啡色         80B\n",
       "4 2016-07-06 14:02:08  2016      7    6        22咖啡色         75B"
      ]
     },
     "execution_count": 16,
     "metadata": {},
     "output_type": "execute_result"
    }
   ],
   "source": [
    "'''重新排序数据框'''\n",
    "columns = ['creationTime','year','month','day','productColor','productSize']\n",
    "data = data[columns]\n",
    "data.head()"
   ]
  },
  {
   "cell_type": "markdown",
   "metadata": {},
   "source": [
    "### 2.3 异常值处理"
   ]
  },
  {
   "cell_type": "code",
   "execution_count": 17,
   "metadata": {},
   "outputs": [
    {
     "data": {
      "text/plain": [
       "2017    13880\n",
       "2016     1614\n",
       "2015        1\n",
       "2014        1\n",
       "Name: year, dtype: int64"
      ]
     },
     "execution_count": 17,
     "metadata": {},
     "output_type": "execute_result"
    }
   ],
   "source": [
    "data['year'].value_counts()"
   ]
  },
  {
   "cell_type": "markdown",
   "metadata": {},
   "source": [
    "#### 2014年和2015年只销售了一件内衣，明显不符合常理，因此，可将这两条记录当作异常值处理（或者我们不做分析）"
   ]
  },
  {
   "cell_type": "code",
   "execution_count": 18,
   "metadata": {},
   "outputs": [],
   "source": [
    "'''通过索引删除年份为2014和2015的记录'''\n",
    "data = data.drop(data[data['year']==2014].index)\n",
    "data = data.drop(data[data['year']==2015].index)"
   ]
  },
  {
   "cell_type": "code",
   "execution_count": 19,
   "metadata": {},
   "outputs": [
    {
     "data": {
      "text/plain": [
       "2017    13880\n",
       "2016     1614\n",
       "Name: year, dtype: int64"
      ]
     },
     "execution_count": 19,
     "metadata": {},
     "output_type": "execute_result"
    }
   ],
   "source": [
    "data['year'].value_counts()      # 查看删除结果"
   ]
  },
  {
   "cell_type": "code",
   "execution_count": 20,
   "metadata": {},
   "outputs": [],
   "source": [
    "data.index = np.arange(len(data))   # 删除数据之后修改索引"
   ]
  },
  {
   "cell_type": "markdown",
   "metadata": {},
   "source": [
    "### 2.4 统一颜色"
   ]
  },
  {
   "cell_type": "code",
   "execution_count": 21,
   "metadata": {},
   "outputs": [],
   "source": [
    "'''在统一颜色之前，先将内衣种类分为bra和suit，为后续添加内裤种类做准备'''\n",
    "data['type'] = 'bra'\n",
    "data.type[data.productColor.str.contains('套装')] = 'suit' "
   ]
  },
  {
   "cell_type": "code",
   "execution_count": 22,
   "metadata": {},
   "outputs": [
    {
     "data": {
      "text/html": [
       "<div>\n",
       "<style scoped>\n",
       "    .dataframe tbody tr th:only-of-type {\n",
       "        vertical-align: middle;\n",
       "    }\n",
       "\n",
       "    .dataframe tbody tr th {\n",
       "        vertical-align: top;\n",
       "    }\n",
       "\n",
       "    .dataframe thead th {\n",
       "        text-align: right;\n",
       "    }\n",
       "</style>\n",
       "<table border=\"1\" class=\"dataframe\">\n",
       "  <thead>\n",
       "    <tr style=\"text-align: right;\">\n",
       "      <th></th>\n",
       "      <th>creationTime</th>\n",
       "      <th>year</th>\n",
       "      <th>month</th>\n",
       "      <th>day</th>\n",
       "      <th>productColor</th>\n",
       "      <th>productSize</th>\n",
       "      <th>type</th>\n",
       "    </tr>\n",
       "  </thead>\n",
       "  <tbody>\n",
       "    <tr>\n",
       "      <th>0</th>\n",
       "      <td>2016-06-08 17:17:00</td>\n",
       "      <td>2016</td>\n",
       "      <td>6</td>\n",
       "      <td>8</td>\n",
       "      <td>棕色</td>\n",
       "      <td>75C</td>\n",
       "      <td>bra</td>\n",
       "    </tr>\n",
       "    <tr>\n",
       "      <th>1</th>\n",
       "      <td>2017-04-07 19:34:25</td>\n",
       "      <td>2017</td>\n",
       "      <td>4</td>\n",
       "      <td>7</td>\n",
       "      <td>棕色</td>\n",
       "      <td>80B</td>\n",
       "      <td>bra</td>\n",
       "    </tr>\n",
       "    <tr>\n",
       "      <th>2</th>\n",
       "      <td>2016-06-18 19:44:56</td>\n",
       "      <td>2016</td>\n",
       "      <td>6</td>\n",
       "      <td>18</td>\n",
       "      <td>粉色</td>\n",
       "      <td>80C</td>\n",
       "      <td>bra</td>\n",
       "    </tr>\n",
       "    <tr>\n",
       "      <th>3</th>\n",
       "      <td>2017-08-03 20:39:18</td>\n",
       "      <td>2017</td>\n",
       "      <td>8</td>\n",
       "      <td>3</td>\n",
       "      <td>棕色</td>\n",
       "      <td>80B</td>\n",
       "      <td>bra</td>\n",
       "    </tr>\n",
       "    <tr>\n",
       "      <th>4</th>\n",
       "      <td>2016-07-06 14:02:08</td>\n",
       "      <td>2016</td>\n",
       "      <td>7</td>\n",
       "      <td>6</td>\n",
       "      <td>棕色</td>\n",
       "      <td>75B</td>\n",
       "      <td>bra</td>\n",
       "    </tr>\n",
       "  </tbody>\n",
       "</table>\n",
       "</div>"
      ],
      "text/plain": [
       "         creationTime  year  month  day productColor productSize type\n",
       "0 2016-06-08 17:17:00  2016      6    8           棕色         75C  bra\n",
       "1 2017-04-07 19:34:25  2017      4    7           棕色         80B  bra\n",
       "2 2016-06-18 19:44:56  2016      6   18           粉色         80C  bra\n",
       "3 2017-08-03 20:39:18  2017      8    3           棕色         80B  bra\n",
       "4 2016-07-06 14:02:08  2016      7    6           棕色         75B  bra"
      ]
     },
     "execution_count": 22,
     "metadata": {},
     "output_type": "execute_result"
    }
   ],
   "source": [
    "'''对照colors表将内衣颜色统一化'''\n",
    "\n",
    "key_list = colors['0']\n",
    "value_list = colors['1']\n",
    "color_dict = dict(zip(key_list,value_list))     # 将colors数据框转换成字典\n",
    "\n",
    "data['productColor'] = data['productColor'].replace(color_dict)    # 通过字典匹配颜色，然后进行替换\n",
    "\n",
    "data.head()"
   ]
  },
  {
   "cell_type": "markdown",
   "metadata": {},
   "source": [
    "### 2.5 统一尺码"
   ]
  },
  {
   "cell_type": "code",
   "execution_count": 23,
   "metadata": {
    "scrolled": true
   },
   "outputs": [
    {
     "data": {
      "text/plain": [
       "75B          6954\n",
       "80B          3967\n",
       "85B           998\n",
       "80C           581\n",
       "75A           488\n",
       "70B           458\n",
       "75D           360\n",
       "75C           357\n",
       "80A           270\n",
       "85C           257\n",
       "70A           171\n",
       "165/76/L      152\n",
       "160/70/M      113\n",
       "85A           100\n",
       "170/82/XL      75\n",
       "90C            39\n",
       "70C            27\n",
       "90D            21\n",
       "85D            20\n",
       "90B            20\n",
       "80D            18\n",
       "85E            17\n",
       "80E             8\n",
       "75E             5\n",
       "90A             4\n",
       "95D             4\n",
       "95C             4\n",
       "90E             3\n",
       "38C             2\n",
       "95E             1\n",
       "Name: productSize, dtype: int64"
      ]
     },
     "execution_count": 23,
     "metadata": {},
     "output_type": "execute_result"
    }
   ],
   "source": [
    "'''\n",
    "由于数据集中文胸尺码十分混乱，不仅有国际尺码、英式尺码，还有身高体重的信息，需要统一尺码，\n",
    "而该数据集大部分都使用的是国际尺码，所以，将尺码统一成国际尺码。\n",
    "\n",
    "'''\n",
    "import re\n",
    "\n",
    "\n",
    "df = data.copy()\n",
    "regex1 = re.compile(r'(\\d{2}[A-Z])',flags = re.IGNORECASE)       # 获取文胸尺码\n",
    "regex2 = re.compile(r'([A-Z][7-9]\\d)',flags = re.IGNORECASE)      # 提取出字母在前数字在后的尺码\n",
    "\n",
    "\n",
    "for i in range(df.shape[0]):\n",
    "    try:\n",
    "        if regex1.findall(df['productSize'][i]):\n",
    "            r1 = max(regex1.findall(str(df['productSize'][i])))      # 选择尺码大的（国际尺码）\n",
    "            df['productSize'][i] = r1[:2] + r1[-1].upper()         # 将小写字母改成大写字母\n",
    "\n",
    "        elif regex2.findall(df['productSize'][i]):\n",
    "            r2 =regex2.findall(df['productSize'][i])[0]\n",
    "            df['productSize'][i] = r2[1:] + r2[0].upper()    # 将小写字母改成大写字母\n",
    "\n",
    "            \n",
    "        else:\n",
    "            continue\n",
    "    except:\n",
    "        continue\n",
    "         \n",
    "data['productSize'] = df['productSize']    # 更新data数据框\n",
    "data['productSize'].value_counts()    # 查看数据\n"
   ]
  },
  {
   "cell_type": "markdown",
   "metadata": {},
   "source": [
    "### 2.6 将内衣进行分类"
   ]
  },
  {
   "cell_type": "code",
   "execution_count": 24,
   "metadata": {},
   "outputs": [
    {
     "data": {
      "text/plain": [
       "bra      15019\n",
       "pants      340\n",
       "suit       135\n",
       "Name: type, dtype: int64"
      ]
     },
     "execution_count": 24,
     "metadata": {},
     "output_type": "execute_result"
    }
   ],
   "source": [
    "'''在此之前，我们已将种类分成了文胸和套装，但是文胸种类中包含了内裤种类，\n",
    "在进行统一尺码之后，我们可以进行进一步细分，将尺码中包含S、M、L、XL的类别改成内裤种类'''\n",
    "\n",
    "import re\n",
    "\n",
    "df = data.copy()\n",
    "regex0 = re.compile(r'S|M|L|XL',flags = re.IGNORECASE)     # 获取包含S、M、L、XL的字符串\n",
    "\n",
    "for i in range(df.shape[0]):\n",
    "    if regex0.findall(df['productSize'][i]):\n",
    "        df['type'][i] = 'pants'         # 更改内衣种类\n",
    "    else:\n",
    "        continue\n",
    "#     except:\n",
    "#         continue\n",
    " \n",
    "data['type'] = df['type']     # 更新data数据框\n",
    "data['type'].value_counts()      # 查看内衣种类属性"
   ]
  },
  {
   "cell_type": "markdown",
   "metadata": {},
   "source": [
    "## 3. 分析数据属性之间的关系"
   ]
  },
  {
   "cell_type": "markdown",
   "metadata": {},
   "source": [
    "### 3.1 查看不同种类内衣的销售情况"
   ]
  },
  {
   "cell_type": "code",
   "execution_count": 103,
   "metadata": {},
   "outputs": [
    {
     "data": {
      "image/png": "[encoded data removed]",
      "text/plain": [
       "<Figure size 360x432 with 1 Axes>"
      ]
     },
     "metadata": {
      "needs_background": "light"
     },
     "output_type": "display_data"
    }
   ],
   "source": [
    "# 按种类查看销售情况\n",
    "plt.rcParams['font.sans-serif'] = ['SimHei']     # 设置中文显示\n",
    "\n",
    "fig = plt.figure(figsize=(5,6))    # 生成新的图片\n",
    "ax = fig.add_subplot(111)      # 创建一个子图\n",
    "\n",
    "type_counts = data.type.value_counts()\n",
    "type_x = type_counts.index          # 生成x轴数据\n",
    "type_y = type_counts.values       # 生成y轴数据\n",
    "\n",
    "ax.bar(type_x,type_y)         # 绘制柱形图\n",
    "plt.xlabel('颜色',fontsize='15')      # 设置x轴标签\n",
    "plt.ylabel('销售量',fontsize='15')      # 设置y轴标签\n",
    "plt.title('不同种类内衣销售柱形图',fontsize='20')     # 设置柱形图标题\n",
    "plt.tick_params(labelsize=15)    #刻度字体大小13\n",
    "\n",
    "for a,b in zip(type_x,type_y):\n",
    "    plt.text(a, b-0.3,'%.0f'%b, ha = 'center',va = 'bottom',fontsize=15)    # 添加数据标签\n",
    "plt.show()\n"
   ]
  },
  {
   "cell_type": "markdown",
   "metadata": {},
   "source": [
    "#### 从上图我们可以看出，2016年和2017年共销售了15019件文胸，340件内裤和135套内衣，这说明如果我们要开一家内衣店的话，应将销售对象放在文胸上。\n",
    "#### 但是，为了方便店铺存货，我们需要知道哪些尺码、哪些颜色卖得好。"
   ]
  },
  {
   "cell_type": "markdown",
   "metadata": {},
   "source": [
    "#### 3.1.1 按尺码查看不同种类内衣的销售情况"
   ]
  },
  {
   "cell_type": "code",
   "execution_count": 26,
   "metadata": {
    "scrolled": false
   },
   "outputs": [
    {
     "data": {
      "image/png": "[encoded data removed]",
      "text/plain": [
       "<Figure size 1296x432 with 4 Axes>"
      ]
     },
     "metadata": {
      "needs_background": "light"
     },
     "output_type": "display_data"
    }
   ],
   "source": [
    "plt.rcParams['font.sans-serif'] = ['SimHei']     # 设置中文显示\n",
    "\n",
    "\n",
    "# 按尺码查看不同种类内衣的销售情况\n",
    "fig=plt.figure(figsize=(18,6))\n",
    "fig.set(alpha=0.8)    # 设置图像透明度\n",
    "plt.title(\"按尺码不同种类内衣的销售情况\",fontsize=20)   # 设置图形标题\n",
    "\n",
    "\n",
    "'''查看文胸销售情况'''\n",
    "ax1=fig.add_subplot(131)\n",
    "data.productSize[data['type'] == 'bra'].value_counts().plot(kind = 'bar',color='#FA2479')\n",
    "ax1.legend(loc='best',fontsize=14)\n",
    "\n",
    "\n",
    "'''查看内裤销售情况'''\n",
    "ax2=fig.add_subplot(132)\n",
    "data.productSize[data['type'] == 'pants'].value_counts().plot(kind = 'bar',color='pink')\n",
    "ax2.legend(loc='best',fontsize=14)\n",
    "\n",
    "\n",
    "'''查看套装销售情况'''\n",
    "ax3=fig.add_subplot(133)\n",
    "data.productSize[data['type'] == 'suit'].value_counts().plot(kind = 'bar',color='lightblue')\n",
    "ax3.legend(loc='best',fontsize=14)\n",
    "\n",
    "plt.subplots_adjust(wspace=0,hspace=0)    #调整子图周围的间距\n",
    "plt.show()"
   ]
  },
  {
   "cell_type": "markdown",
   "metadata": {},
   "source": [
    "#### 由上图可以看出，75B的文胸尺码、L码的内裤和75B的套装销售量最高"
   ]
  },
  {
   "cell_type": "markdown",
   "metadata": {},
   "source": [
    "#### 3.1.2 按颜色查看不同种类内衣的销售情况"
   ]
  },
  {
   "cell_type": "code",
   "execution_count": 105,
   "metadata": {
    "scrolled": true
   },
   "outputs": [
    {
     "data": {
      "image/png": "[encoded data removed]",
      "text/plain": [
       "<Figure size 1296x360 with 4 Axes>"
      ]
     },
     "metadata": {
      "needs_background": "light"
     },
     "output_type": "display_data"
    }
   ],
   "source": [
    "# 按颜色码查看不同种类内衣的销售情况\n",
    "fig=plt.figure(figsize=(18,5))\n",
    "fig.set(alpha=0.8)    # 设置图像透明度\n",
    "plt.title(\"按颜色不同种类内衣的销售情况\",fontsize=20)   # 设置图形标题\n",
    "\n",
    "\n",
    "'''查看文胸销售情况'''\n",
    "ax1=fig.add_subplot(131)\n",
    "data.productColor[data['type'] == 'bra'].value_counts().plot(kind = 'bar',color='yellowgreen')\n",
    "ax1.set_xlabel(\"bra\",fontsize='18') \n",
    "ax1.legend(loc='best',fontsize=16)\n",
    "\n",
    "\n",
    "'''查看内裤销售情况'''\n",
    "ax2=fig.add_subplot(132)\n",
    "data.productColor[data['type'] == 'pants'].value_counts().plot(kind = 'bar',color='orange')\n",
    "ax2.set_xlabel(\"pants\",fontsize='18') \n",
    "ax2.legend(loc='best',fontsize=16)\n",
    "\n",
    "\n",
    "'''查看套装销售情况'''\n",
    "ax3=fig.add_subplot(133)\n",
    "data.productColor[data['type'] == 'suit'].value_counts().plot(kind = 'bar',color='lightskyblue')\n",
    "ax3.set_xlabel(\"suit\",fontsize='18') \n",
    "ax3.legend(loc='best',fontsize=16)\n",
    "\n",
    "plt.subplots_adjust(wspace=0,hspace=0)    #调整子图周围的间距\n",
    "plt.show()"
   ]
  },
  {
   "cell_type": "markdown",
   "metadata": {},
   "source": [
    "#### 由上图可以看出，文胸、内裤和套装销售量最高的是分别是蓝色、蓝色和粉色。\n",
    "#### 接下来,我们需要看一下文胸的销售情况"
   ]
  },
  {
   "cell_type": "markdown",
   "metadata": {},
   "source": [
    "### 3.2 查看文胸的销售情况"
   ]
  },
  {
   "cell_type": "markdown",
   "metadata": {},
   "source": [
    "#### 3.2.1 按尺码查看文胸销售情况"
   ]
  },
  {
   "cell_type": "code",
   "execution_count": 28,
   "metadata": {
    "scrolled": true
   },
   "outputs": [
    {
     "data": {
      "image/png": "[encoded data removed]",
      "text/plain": [
       "<Figure size 1296x360 with 1 Axes>"
      ]
     },
     "metadata": {
      "needs_background": "light"
     },
     "output_type": "display_data"
    }
   ],
   "source": [
    "# 按尺码查看文胸销售情况\n",
    "\n",
    "fig = plt.figure(figsize=(18, 5))\n",
    "fig.tight_layout()\n",
    "ax = fig.add_subplot(111)\n",
    "color_counts = data.productSize[data['type'] == 'bra'].value_counts()\n",
    "color_x = color_counts.index\n",
    "color_y = color_counts.values\n",
    "\n",
    "ax.bar(color_x,color_y,color='lightskyblue')\n",
    "plt.xlabel('尺码',fontsize='17')      # 设置x轴标签\n",
    "plt.ylabel('销售量',fontsize='17')      # 设置y轴标签\n",
    "plt.tick_params(labelsize=15)    #刻度字体大小15\n",
    "plt.title('各尺码文胸销售柱形图',fontsize='20')     # 设置柱形图标题\n",
    "\n",
    "for a,b in zip(color_x,color_y):\n",
    "    plt.text(a, b-0.3,'%.0f'%b, ha = 'center',va = 'bottom',fontsize=15)\n",
    "plt.show()\n"
   ]
  },
  {
   "cell_type": "markdown",
   "metadata": {},
   "source": [
    "#### 上图可以看出,文胸销售量最高的是75B、其次是80B，销售量均超过3000，远超第三名，销售量最低的是95E，只销售了一件。相对来说，B类和A类尺码的文胸卖得好，E类文胸卖的少。"
   ]
  },
  {
   "cell_type": "markdown",
   "metadata": {},
   "source": [
    "#### 3.2.2 按颜色查看文胸销售情况"
   ]
  },
  {
   "cell_type": "code",
   "execution_count": 29,
   "metadata": {
    "scrolled": true
   },
   "outputs": [
    {
     "data": {
      "image/png": "[encoded data removed]",
      "text/plain": [
       "<Figure size 1296x360 with 1 Axes>"
      ]
     },
     "metadata": {
      "needs_background": "light"
     },
     "output_type": "display_data"
    }
   ],
   "source": [
    "# 按颜色尺码查看文胸销售情况\n",
    "\n",
    "fig = plt.figure(figsize=(18, 5))\n",
    "fig.tight_layout()\n",
    "ax = fig.add_subplot(111)\n",
    "color_counts = data['productColor'].value_counts()\n",
    "color_x = color_counts.index\n",
    "color_y = color_counts.values\n",
    "\n",
    "ax.bar(color_x,color_y,color='pink')\n",
    "plt.xlabel('颜色',fontsize='17')      # 设置x轴标签\n",
    "plt.ylabel('销售量',fontsize='17')      # 设置y轴标签\n",
    "plt.title('各颜色文胸销售柱形图',fontsize='20')     # 设置柱形图标题\n",
    "plt.tick_params(labelsize=15)    #刻度字体大小15\n",
    "\n",
    "for a,b in zip(color_x,color_y):\n",
    "    plt.text(a, b-0.3,'%.0f'%b, ha = 'center',va = 'bottom',fontsize=15)\n",
    "plt.show()\n"
   ]
  },
  {
   "cell_type": "markdown",
   "metadata": {},
   "source": [
    "#### 上图可以看出,文胸销售量最高的是蓝色、其次是红色和紫色，销售量均超过2500，销售量较低的是黄色、灰色、绿色还有棕色。"
   ]
  },
  {
   "cell_type": "markdown",
   "metadata": {},
   "source": [
    "#### 3.2.3 按颜色尺码查看文胸销售情况"
   ]
  },
  {
   "cell_type": "code",
   "execution_count": 106,
   "metadata": {
    "scrolled": true
   },
   "outputs": [
    {
     "data": {
      "image/png": "[encoded data removed]",
      "text/plain": [
       "<Figure size 1296x360 with 1 Axes>"
      ]
     },
     "metadata": {
      "needs_background": "light"
     },
     "output_type": "display_data"
    }
   ],
   "source": [
    "# 按颜色尺码查看文胸销售情况\n",
    "\n",
    "fig = plt.figure(figsize=(18, 5))\n",
    "fig.tight_layout()\n",
    "ax = fig.add_subplot(111)\n",
    "color_size_counts = (data['productSize'] + data['productColor']).value_counts()[:10]   # 取销售量的前十位\n",
    "x = color_size_counts.index    \n",
    "y = color_size_counts.values\n",
    "\n",
    "ax.bar(x,y,color='aquamarine')\n",
    "plt.xlabel('颜色尺码',fontsize='17')      # 设置x轴标签\n",
    "plt.ylabel('销售量',fontsize='17')      # 设置y轴标签\n",
    "plt.title('各颜色尺码文胸销售柱形图',fontsize='20')     # 设置柱形图标题\n",
    "plt.tick_params(labelsize=15)    #刻度字体大小15\n",
    "\n",
    "for a,b in zip(x,y):\n",
    "    plt.text(a, b-0.3,'%.0f'%b, ha = 'center',va = 'bottom',fontsize=15)\n",
    "plt.show()\n"
   ]
  },
  {
   "cell_type": "markdown",
   "metadata": {},
   "source": [
    "#### 上图可以看出,根据颜色尺码来看，文胸销售量前三的是75B的紫色、80B的蓝色和75B的粉色，销售量均超过1000。"
   ]
  },
  {
   "cell_type": "markdown",
   "metadata": {},
   "source": [
    "### 3.3 查看月销售情况"
   ]
  },
  {
   "cell_type": "code",
   "execution_count": 30,
   "metadata": {},
   "outputs": [
    {
     "data": {
      "text/plain": [
       "10    3831\n",
       "11    3569\n",
       "9     1728\n",
       "6     1216\n",
       "8     1075\n",
       "7      916\n",
       "5      806\n",
       "3      671\n",
       "4      657\n",
       "12     495\n",
       "1      272\n",
       "2      258\n",
       "Name: month, dtype: int64"
      ]
     },
     "execution_count": 30,
     "metadata": {},
     "output_type": "execute_result"
    }
   ],
   "source": [
    "data.month.value_counts()   #查看内衣月销售情况"
   ]
  },
  {
   "cell_type": "markdown",
   "metadata": {},
   "source": [
    "#### 从数据中我们可以看出，不同月份内衣的销售情况有很大的差异，因此，我们需要更进一步分析不同月份内衣的销售情况"
   ]
  },
  {
   "cell_type": "code",
   "execution_count": 31,
   "metadata": {
    "scrolled": true
   },
   "outputs": [
    {
     "data": {
      "image/png": "[encoded data removed]",
      "text/plain": [
       "<Figure size 1080x360 with 1 Axes>"
      ]
     },
     "metadata": {
      "needs_background": "light"
     },
     "output_type": "display_data"
    }
   ],
   "source": [
    "'''按年份看每月销售情况'''\n",
    "\n",
    "sale_2016 = data.month[data.year == 2016].value_counts()\n",
    "sale_2017 = data.month[data.year == 2017].value_counts()\n",
    "df = pd.DataFrame({2016:sale_2016, 2017:sale_2017})\n",
    "\n",
    "df.plot(kind='bar',stacked=True,figsize=(15,5))\n",
    "plt.title(\"按年份看月销售堆积柱状图\",fontsize='20')\n",
    "plt.xlabel(\"月份\",fontsize='17') \n",
    "plt.ylabel(\"销售量\",fontsize='17')\n",
    "plt.tick_params(labelsize=13)    #刻度字体大小13\n",
    "plt.legend(loc = 'upper left',fontsize=16)\n",
    "plt.show()\n"
   ]
  },
  {
   "cell_type": "markdown",
   "metadata": {},
   "source": [
    "#### 十月销售量最高，其次是11月和9月，也就是说，相对来说，第四季度内衣销售量较高，其次是第二季度，第一季度销售量最低。"
   ]
  },
  {
   "cell_type": "markdown",
   "metadata": {},
   "source": [
    "## 4. 总结"
   ]
  },
  {
   "cell_type": "markdown",
   "metadata": {},
   "source": [
    "### 1. 如果我们要开一家内衣店的话，应将销售对象放在文胸上。\n",
    "### 2. 文胸、内裤和套装销售量最高的是分别是蓝色、蓝色和粉色。\n",
    "### 3. 75B的文胸尺码、L码的内裤和75B的套装销售量最高。\n",
    "### 4. 相对来说，第四季度内衣销售量较高，其次是第二季度，第一季度销售量最低。\n",
    "### 5.文胸：（1）销售量最高的颜色是蓝色、其次是红色和紫色，销售量较低的是黄色、灰色、绿色还有棕色。（2）销售量最高的尺码是75B、其次是80B，最低的是95E，相对来说，B类和A类尺码的文胸卖得好，E类文胸卖的少。（3）根据颜色尺码来看，文胸销售量前三的是75B的紫色、80B的蓝色和75B的粉色，销售量均超过1000"
   ]
  },
  {
   "cell_type": "code",
   "execution_count": null,
   "metadata": {},
   "outputs": [],
   "source": []
  },
  {
   "cell_type": "code",
   "execution_count": null,
   "metadata": {},
   "outputs": [],
   "source": []
  }
 ],
 "metadata": {
  "kernelspec": {
   "display_name": "Python 3",
   "language": "python",
   "name": "python3"
  },
  "language_info": {
   "codemirror_mode": {
    "name": "ipython",
    "version": 3
   },
   "file_extension": ".py",
   "mimetype": "text/x-python",
   "name": "python",
   "nbconvert_exporter": "python",
   "pygments_lexer": "ipython3",
   "version": "3.7.6"
  }
 },
 "nbformat": 4,
 "nbformat_minor": 4
}
